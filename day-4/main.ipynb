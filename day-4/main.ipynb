{
 "cells": [
  {
   "cell_type": "markdown",
   "metadata": {},
   "source": [
    "# Quantitative Trading System\n",
    "\n",
    "This notebook integrates the following components:\n",
    "1. Order Book Simulation\n",
    "2. Mean Reversion Strategy\n",
    "3. Backtesting Framework"
   ]
  },
  {
   "cell_type": "markdown",
   "metadata": {},
   "source": [
    "## Imports and Setup"
   ]
  },
  {
   "cell_type": "code",
   "execution_count": 14,
   "metadata": {},
   "outputs": [],
   "source": [
    "import numpy as np\n",
    "import pandas as pd\n",
    "import matplotlib.pyplot as plt\n",
    "import yfinance as yf\n",
    "from collections import deque\n",
    "import sys\n",
    "import os\n",
    "%run order_book.py\n",
    "# Add the current directory to path to ensure imports work\n",
    "sys.path.append(os.path.abspath('.'))\n",
    "\n",
    "# Import our custom modules\n",
    "from order_book import OrderBook\n",
    "from mean_reversion import MeanReversionStrategy"
   ]
  },
  {
   "cell_type": "markdown",
   "metadata": {},
   "source": [
    "## 1. Order Book Demonstration"
   ]
  },
  {
   "cell_type": "code",
   "execution_count": 15,
   "metadata": {},
   "outputs": [
    {
     "name": "stdout",
     "output_type": "stream",
     "text": [
      "Adding orders to the book...\n",
      "\n",
      "Current order book:\n",
      "Bids (Buy orders):\n",
      "1. Price: 101.0, Quantity: 5\n",
      "2. Price: 100.0, Quantity: 10\n",
      "3. Price: 99.0, Quantity: 7\n",
      "\n",
      "Asks (Sell orders):\n",
      "1. Price: 101.5, Quantity: 4\n",
      "2. Price: 102.0, Quantity: 3\n",
      "3. Price: 103.0, Quantity: 8\n",
      "\n",
      "Matching orders...\n",
      "\n",
      "Order book after matching:\n",
      "\n",
      "Current order book:\n",
      "Bids (Buy orders):\n",
      "1. Price: 101.0, Quantity: 5\n",
      "2. Price: 100.0, Quantity: 10\n",
      "3. Price: 99.0, Quantity: 7\n",
      "\n",
      "Asks (Sell orders):\n",
      "1. Price: 101.5, Quantity: 4\n",
      "2. Price: 102.0, Quantity: 3\n",
      "3. Price: 103.0, Quantity: 8\n"
     ]
    }
   ],
   "source": [
    "# Create an instance of the order book\n",
    "book = OrderBook()\n",
    "\n",
    "# Add some sample orders\n",
    "print(\"Adding orders to the book...\")\n",
    "book.add_order(price=100.0, quantity=10, side='buy')\n",
    "book.add_order(price=101.0, quantity=5, side='buy')\n",
    "book.add_order(price=99.0, quantity=7, side='buy')\n",
    "book.add_order(price=102.0, quantity=3, side='sell')\n",
    "book.add_order(price=103.0, quantity=8, side='sell')\n",
    "book.add_order(price=101.5, quantity=4, side='sell')\n",
    "\n",
    "# Print the current order book state\n",
    "book.output()\n",
    "\n",
    "# Match orders\n",
    "print(\"\\nMatching orders...\")\n",
    "book.match_orders()\n",
    "\n",
    "# Print the order book after matching\n",
    "print(\"\\nOrder book after matching:\")\n",
    "book.output()"
   ]
  },
  {
   "cell_type": "markdown",
   "metadata": {},
   "source": [
    "## 2. Mean Reversion Strategy"
   ]
  },
  {
   "cell_type": "code",
   "execution_count": 16,
   "metadata": {},
   "outputs": [
    {
     "name": "stderr",
     "output_type": "stream",
     "text": [
      "[*********************100%***********************]  1 of 1 completed"
     ]
    },
    {
     "name": "stdout",
     "output_type": "stream",
     "text": [
      "Loading historical stock data...\n",
      "Loaded 505 days of data\n"
     ]
    },
    {
     "name": "stderr",
     "output_type": "stream",
     "text": [
      "\n"
     ]
    },
    {
     "data": {
      "application/vnd.microsoft.datawrangler.viewer.v0+json": {
       "columns": [
        {
         "name": "Date",
         "rawType": "datetime64[ns]",
         "type": "datetime"
        },
        {
         "name": "('Close', 'AAPL')",
         "rawType": "float64",
         "type": "float"
        },
        {
         "name": "('High', 'AAPL')",
         "rawType": "float64",
         "type": "float"
        },
        {
         "name": "('Low', 'AAPL')",
         "rawType": "float64",
         "type": "float"
        },
        {
         "name": "('Open', 'AAPL')",
         "rawType": "float64",
         "type": "float"
        },
        {
         "name": "('Volume', 'AAPL')",
         "rawType": "int64",
         "type": "integer"
        }
       ],
       "conversionMethod": "pd.DataFrame",
       "ref": "c86061ee-4206-465f-b556-0fbd1e282b1d",
       "rows": [
        [
         "2020-01-02 00:00:00",
         "72.71607208251953",
         "72.77659819422657",
         "71.46681225027338",
         "71.72101896406637",
         "135480400"
        ],
        [
         "2020-01-03 00:00:00",
         "72.00911712646484",
         "72.77174458511139",
         "71.7839617851537",
         "71.94132818321717",
         "146322800"
        ],
        [
         "2020-01-06 00:00:00",
         "72.58292388916016",
         "72.62166149456958",
         "70.876090172576",
         "71.12788091351582",
         "118387200"
        ],
        [
         "2020-01-07 00:00:00",
         "72.24150848388672",
         "72.84918527681089",
         "72.0211926755508",
         "72.59255529972445",
         "108872000"
        ],
        [
         "2020-01-08 00:00:00",
         "73.40364837646484",
         "73.70627893727402",
         "71.943758846659",
         "71.943758846659",
         "132079200"
        ]
       ],
       "shape": {
        "columns": 5,
        "rows": 5
       }
      },
      "text/html": [
       "<div>\n",
       "<style scoped>\n",
       "    .dataframe tbody tr th:only-of-type {\n",
       "        vertical-align: middle;\n",
       "    }\n",
       "\n",
       "    .dataframe tbody tr th {\n",
       "        vertical-align: top;\n",
       "    }\n",
       "\n",
       "    .dataframe thead tr th {\n",
       "        text-align: left;\n",
       "    }\n",
       "\n",
       "    .dataframe thead tr:last-of-type th {\n",
       "        text-align: right;\n",
       "    }\n",
       "</style>\n",
       "<table border=\"1\" class=\"dataframe\">\n",
       "  <thead>\n",
       "    <tr>\n",
       "      <th>Price</th>\n",
       "      <th>Close</th>\n",
       "      <th>High</th>\n",
       "      <th>Low</th>\n",
       "      <th>Open</th>\n",
       "      <th>Volume</th>\n",
       "    </tr>\n",
       "    <tr>\n",
       "      <th>Ticker</th>\n",
       "      <th>AAPL</th>\n",
       "      <th>AAPL</th>\n",
       "      <th>AAPL</th>\n",
       "      <th>AAPL</th>\n",
       "      <th>AAPL</th>\n",
       "    </tr>\n",
       "    <tr>\n",
       "      <th>Date</th>\n",
       "      <th></th>\n",
       "      <th></th>\n",
       "      <th></th>\n",
       "      <th></th>\n",
       "      <th></th>\n",
       "    </tr>\n",
       "  </thead>\n",
       "  <tbody>\n",
       "    <tr>\n",
       "      <th>2020-01-02</th>\n",
       "      <td>72.716072</td>\n",
       "      <td>72.776598</td>\n",
       "      <td>71.466812</td>\n",
       "      <td>71.721019</td>\n",
       "      <td>135480400</td>\n",
       "    </tr>\n",
       "    <tr>\n",
       "      <th>2020-01-03</th>\n",
       "      <td>72.009117</td>\n",
       "      <td>72.771745</td>\n",
       "      <td>71.783962</td>\n",
       "      <td>71.941328</td>\n",
       "      <td>146322800</td>\n",
       "    </tr>\n",
       "    <tr>\n",
       "      <th>2020-01-06</th>\n",
       "      <td>72.582924</td>\n",
       "      <td>72.621661</td>\n",
       "      <td>70.876090</td>\n",
       "      <td>71.127881</td>\n",
       "      <td>118387200</td>\n",
       "    </tr>\n",
       "    <tr>\n",
       "      <th>2020-01-07</th>\n",
       "      <td>72.241508</td>\n",
       "      <td>72.849185</td>\n",
       "      <td>72.021193</td>\n",
       "      <td>72.592555</td>\n",
       "      <td>108872000</td>\n",
       "    </tr>\n",
       "    <tr>\n",
       "      <th>2020-01-08</th>\n",
       "      <td>73.403648</td>\n",
       "      <td>73.706279</td>\n",
       "      <td>71.943759</td>\n",
       "      <td>71.943759</td>\n",
       "      <td>132079200</td>\n",
       "    </tr>\n",
       "  </tbody>\n",
       "</table>\n",
       "</div>"
      ],
      "text/plain": [
       "Price           Close       High        Low       Open     Volume\n",
       "Ticker           AAPL       AAPL       AAPL       AAPL       AAPL\n",
       "Date                                                             \n",
       "2020-01-02  72.716072  72.776598  71.466812  71.721019  135480400\n",
       "2020-01-03  72.009117  72.771745  71.783962  71.941328  146322800\n",
       "2020-01-06  72.582924  72.621661  70.876090  71.127881  118387200\n",
       "2020-01-07  72.241508  72.849185  72.021193  72.592555  108872000\n",
       "2020-01-08  73.403648  73.706279  71.943759  71.943759  132079200"
      ]
     },
     "execution_count": 16,
     "metadata": {},
     "output_type": "execute_result"
    }
   ],
   "source": [
    "# Load historical stock data\n",
    "print(\"Loading historical stock data...\")\n",
    "stock_data = yf.download('AAPL', start='2020-01-01', end='2022-01-01')\n",
    "print(f\"Loaded {len(stock_data)} days of data\")\n",
    "stock_data.head()"
   ]
  },
  {
   "cell_type": "code",
   "execution_count": 20,
   "metadata": {},
   "outputs": [
    {
     "data": {
      "application/vnd.microsoft.datawrangler.viewer.v0+json": {
       "columns": [
        {
         "name": "Date",
         "rawType": "datetime64[ns]",
         "type": "datetime"
        },
        {
         "name": "AAPL",
         "rawType": "float64",
         "type": "float"
        }
       ],
       "conversionMethod": "pd.DataFrame",
       "ref": "756cc2e0-ddf9-4827-9638-23b163144ccf",
       "rows": [
        [
         "2020-01-02 00:00:00",
         "72.71607208251953"
        ],
        [
         "2020-01-03 00:00:00",
         "72.00911712646484"
        ],
        [
         "2020-01-06 00:00:00",
         "72.58292388916016"
        ],
        [
         "2020-01-07 00:00:00",
         "72.24150848388672"
        ],
        [
         "2020-01-08 00:00:00",
         "73.40364837646484"
        ],
        [
         "2020-01-09 00:00:00",
         "74.96279907226562"
        ],
        [
         "2020-01-10 00:00:00",
         "75.13227844238281"
        ],
        [
         "2020-01-13 00:00:00",
         "76.7374267578125"
        ],
        [
         "2020-01-14 00:00:00",
         "75.70121002197266"
        ],
        [
         "2020-01-15 00:00:00",
         "75.37679290771484"
        ],
        [
         "2020-01-16 00:00:00",
         "76.32099151611328"
        ],
        [
         "2020-01-17 00:00:00",
         "77.16595458984375"
        ],
        [
         "2020-01-21 00:00:00",
         "76.64301300048828"
        ],
        [
         "2020-01-22 00:00:00",
         "76.91658020019531"
        ],
        [
         "2020-01-23 00:00:00",
         "77.2870101928711"
        ],
        [
         "2020-01-24 00:00:00",
         "77.06427001953125"
        ],
        [
         "2020-01-27 00:00:00",
         "74.79816436767578"
        ],
        [
         "2020-01-28 00:00:00",
         "76.91416931152344"
        ],
        [
         "2020-01-29 00:00:00",
         "78.524169921875"
        ],
        [
         "2020-01-30 00:00:00",
         "78.41034698486328"
        ],
        [
         "2020-01-31 00:00:00",
         "74.93376922607422"
        ],
        [
         "2020-02-03 00:00:00",
         "74.72795867919922"
        ],
        [
         "2020-02-04 00:00:00",
         "77.19500732421875"
        ],
        [
         "2020-02-05 00:00:00",
         "77.82447052001953"
        ],
        [
         "2020-02-06 00:00:00",
         "78.73480224609375"
        ],
        [
         "2020-02-07 00:00:00",
         "77.66456604003906"
        ],
        [
         "2020-02-10 00:00:00",
         "78.03343963623047"
        ],
        [
         "2020-02-11 00:00:00",
         "77.56263732910156"
        ],
        [
         "2020-02-12 00:00:00",
         "79.40458679199219"
        ],
        [
         "2020-02-13 00:00:00",
         "78.8391342163086"
        ],
        [
         "2020-02-14 00:00:00",
         "78.85855102539062"
        ],
        [
         "2020-02-18 00:00:00",
         "77.41460418701172"
        ],
        [
         "2020-02-19 00:00:00",
         "78.53578186035156"
        ],
        [
         "2020-02-20 00:00:00",
         "77.73009490966797"
        ],
        [
         "2020-02-21 00:00:00",
         "75.97067260742188"
        ],
        [
         "2020-02-24 00:00:00",
         "72.36201477050781"
        ],
        [
         "2020-02-25 00:00:00",
         "69.91098022460938"
        ],
        [
         "2020-02-26 00:00:00",
         "71.02002716064453"
        ],
        [
         "2020-02-27 00:00:00",
         "66.37757873535156"
        ],
        [
         "2020-02-28 00:00:00",
         "66.3387222290039"
        ],
        [
         "2020-03-02 00:00:00",
         "72.51490783691406"
        ],
        [
         "2020-03-03 00:00:00",
         "70.21188354492188"
        ],
        [
         "2020-03-04 00:00:00",
         "73.4686508178711"
        ],
        [
         "2020-03-05 00:00:00",
         "71.08552551269531"
        ],
        [
         "2020-03-06 00:00:00",
         "70.14153289794922"
        ],
        [
         "2020-03-09 00:00:00",
         "64.59388732910156"
        ],
        [
         "2020-03-10 00:00:00",
         "69.24603271484375"
        ],
        [
         "2020-03-11 00:00:00",
         "66.84109497070312"
        ],
        [
         "2020-03-12 00:00:00",
         "60.240203857421875"
        ],
        [
         "2020-03-13 00:00:00",
         "67.45748138427734"
        ]
       ],
       "shape": {
        "columns": 1,
        "rows": 505
       }
      },
      "text/html": [
       "<div>\n",
       "<style scoped>\n",
       "    .dataframe tbody tr th:only-of-type {\n",
       "        vertical-align: middle;\n",
       "    }\n",
       "\n",
       "    .dataframe tbody tr th {\n",
       "        vertical-align: top;\n",
       "    }\n",
       "\n",
       "    .dataframe thead th {\n",
       "        text-align: right;\n",
       "    }\n",
       "</style>\n",
       "<table border=\"1\" class=\"dataframe\">\n",
       "  <thead>\n",
       "    <tr style=\"text-align: right;\">\n",
       "      <th>Ticker</th>\n",
       "      <th>AAPL</th>\n",
       "    </tr>\n",
       "    <tr>\n",
       "      <th>Date</th>\n",
       "      <th></th>\n",
       "    </tr>\n",
       "  </thead>\n",
       "  <tbody>\n",
       "    <tr>\n",
       "      <th>2020-01-02</th>\n",
       "      <td>72.716072</td>\n",
       "    </tr>\n",
       "    <tr>\n",
       "      <th>2020-01-03</th>\n",
       "      <td>72.009117</td>\n",
       "    </tr>\n",
       "    <tr>\n",
       "      <th>2020-01-06</th>\n",
       "      <td>72.582924</td>\n",
       "    </tr>\n",
       "    <tr>\n",
       "      <th>2020-01-07</th>\n",
       "      <td>72.241508</td>\n",
       "    </tr>\n",
       "    <tr>\n",
       "      <th>2020-01-08</th>\n",
       "      <td>73.403648</td>\n",
       "    </tr>\n",
       "    <tr>\n",
       "      <th>...</th>\n",
       "      <td>...</td>\n",
       "    </tr>\n",
       "    <tr>\n",
       "      <th>2021-12-27</th>\n",
       "      <td>177.228790</td>\n",
       "    </tr>\n",
       "    <tr>\n",
       "      <th>2021-12-28</th>\n",
       "      <td>176.206680</td>\n",
       "    </tr>\n",
       "    <tr>\n",
       "      <th>2021-12-29</th>\n",
       "      <td>176.295181</td>\n",
       "    </tr>\n",
       "    <tr>\n",
       "      <th>2021-12-30</th>\n",
       "      <td>175.135391</td>\n",
       "    </tr>\n",
       "    <tr>\n",
       "      <th>2021-12-31</th>\n",
       "      <td>174.516296</td>\n",
       "    </tr>\n",
       "  </tbody>\n",
       "</table>\n",
       "<p>505 rows × 1 columns</p>\n",
       "</div>"
      ],
      "text/plain": [
       "Ticker            AAPL\n",
       "Date                  \n",
       "2020-01-02   72.716072\n",
       "2020-01-03   72.009117\n",
       "2020-01-06   72.582924\n",
       "2020-01-07   72.241508\n",
       "2020-01-08   73.403648\n",
       "...                ...\n",
       "2021-12-27  177.228790\n",
       "2021-12-28  176.206680\n",
       "2021-12-29  176.295181\n",
       "2021-12-30  175.135391\n",
       "2021-12-31  174.516296\n",
       "\n",
       "[505 rows x 1 columns]"
      ]
     },
     "execution_count": 20,
     "metadata": {},
     "output_type": "execute_result"
    }
   ],
   "source": [
    "data = stock_data['Close']\n",
    "data"
   ]
  },
  {
   "cell_type": "code",
   "execution_count": null,
   "metadata": {},
   "outputs": [
    {
     "ename": "ValueError",
     "evalue": "Length of values (0) does not match length of index (505)",
     "output_type": "error",
     "traceback": [
      "\u001b[0;31m---------------------------------------------------------------------------\u001b[0m",
      "\u001b[0;31mValueError\u001b[0m                                Traceback (most recent call last)",
      "Cell \u001b[0;32mIn[22], line 3\u001b[0m\n\u001b[1;32m      1\u001b[0m \u001b[38;5;66;03m# Create and apply the mean reversion strategy\u001b[39;00m\n\u001b[1;32m      2\u001b[0m strategy \u001b[38;5;241m=\u001b[39m MeanReversionStrategy(stock_data[\u001b[38;5;124m'\u001b[39m\u001b[38;5;124mClose\u001b[39m\u001b[38;5;124m'\u001b[39m])\n\u001b[0;32m----> 3\u001b[0m stock_data[\u001b[38;5;124m'\u001b[39m\u001b[38;5;124mSignal\u001b[39m\u001b[38;5;124m'\u001b[39m] \u001b[38;5;241m=\u001b[39m []\n\u001b[1;32m      5\u001b[0m \u001b[38;5;66;03m# Display the first few rows of the data with signals\u001b[39;00m\n\u001b[1;32m      6\u001b[0m \u001b[38;5;28mprint\u001b[39m(\u001b[38;5;124m\"\u001b[39m\u001b[38;5;130;01m\\n\u001b[39;00m\u001b[38;5;124mStock data with signals:\u001b[39m\u001b[38;5;124m\"\u001b[39m)\n",
      "File \u001b[0;32m~/miniconda3/envs/ml-research-py310/lib/python3.10/site-packages/pandas/core/frame.py:4311\u001b[0m, in \u001b[0;36mDataFrame.__setitem__\u001b[0;34m(self, key, value)\u001b[0m\n\u001b[1;32m   4308\u001b[0m     \u001b[38;5;28mself\u001b[39m\u001b[38;5;241m.\u001b[39m_setitem_array([key], value)\n\u001b[1;32m   4309\u001b[0m \u001b[38;5;28;01melse\u001b[39;00m:\n\u001b[1;32m   4310\u001b[0m     \u001b[38;5;66;03m# set column\u001b[39;00m\n\u001b[0;32m-> 4311\u001b[0m     \u001b[38;5;28;43mself\u001b[39;49m\u001b[38;5;241;43m.\u001b[39;49m\u001b[43m_set_item\u001b[49m\u001b[43m(\u001b[49m\u001b[43mkey\u001b[49m\u001b[43m,\u001b[49m\u001b[43m \u001b[49m\u001b[43mvalue\u001b[49m\u001b[43m)\u001b[49m\n",
      "File \u001b[0;32m~/miniconda3/envs/ml-research-py310/lib/python3.10/site-packages/pandas/core/frame.py:4524\u001b[0m, in \u001b[0;36mDataFrame._set_item\u001b[0;34m(self, key, value)\u001b[0m\n\u001b[1;32m   4514\u001b[0m \u001b[38;5;28;01mdef\u001b[39;00m \u001b[38;5;21m_set_item\u001b[39m(\u001b[38;5;28mself\u001b[39m, key, value) \u001b[38;5;241m-\u001b[39m\u001b[38;5;241m>\u001b[39m \u001b[38;5;28;01mNone\u001b[39;00m:\n\u001b[1;32m   4515\u001b[0m \u001b[38;5;250m    \u001b[39m\u001b[38;5;124;03m\"\"\"\u001b[39;00m\n\u001b[1;32m   4516\u001b[0m \u001b[38;5;124;03m    Add series to DataFrame in specified column.\u001b[39;00m\n\u001b[1;32m   4517\u001b[0m \n\u001b[0;32m   (...)\u001b[0m\n\u001b[1;32m   4522\u001b[0m \u001b[38;5;124;03m    ensure homogeneity.\u001b[39;00m\n\u001b[1;32m   4523\u001b[0m \u001b[38;5;124;03m    \"\"\"\u001b[39;00m\n\u001b[0;32m-> 4524\u001b[0m     value, refs \u001b[38;5;241m=\u001b[39m \u001b[38;5;28;43mself\u001b[39;49m\u001b[38;5;241;43m.\u001b[39;49m\u001b[43m_sanitize_column\u001b[49m\u001b[43m(\u001b[49m\u001b[43mvalue\u001b[49m\u001b[43m)\u001b[49m\n\u001b[1;32m   4526\u001b[0m     \u001b[38;5;28;01mif\u001b[39;00m (\n\u001b[1;32m   4527\u001b[0m         key \u001b[38;5;129;01min\u001b[39;00m \u001b[38;5;28mself\u001b[39m\u001b[38;5;241m.\u001b[39mcolumns\n\u001b[1;32m   4528\u001b[0m         \u001b[38;5;129;01mand\u001b[39;00m value\u001b[38;5;241m.\u001b[39mndim \u001b[38;5;241m==\u001b[39m \u001b[38;5;241m1\u001b[39m\n\u001b[1;32m   4529\u001b[0m         \u001b[38;5;129;01mand\u001b[39;00m \u001b[38;5;129;01mnot\u001b[39;00m \u001b[38;5;28misinstance\u001b[39m(value\u001b[38;5;241m.\u001b[39mdtype, ExtensionDtype)\n\u001b[1;32m   4530\u001b[0m     ):\n\u001b[1;32m   4531\u001b[0m         \u001b[38;5;66;03m# broadcast across multiple columns if necessary\u001b[39;00m\n\u001b[1;32m   4532\u001b[0m         \u001b[38;5;28;01mif\u001b[39;00m \u001b[38;5;129;01mnot\u001b[39;00m \u001b[38;5;28mself\u001b[39m\u001b[38;5;241m.\u001b[39mcolumns\u001b[38;5;241m.\u001b[39mis_unique \u001b[38;5;129;01mor\u001b[39;00m \u001b[38;5;28misinstance\u001b[39m(\u001b[38;5;28mself\u001b[39m\u001b[38;5;241m.\u001b[39mcolumns, MultiIndex):\n",
      "File \u001b[0;32m~/miniconda3/envs/ml-research-py310/lib/python3.10/site-packages/pandas/core/frame.py:5266\u001b[0m, in \u001b[0;36mDataFrame._sanitize_column\u001b[0;34m(self, value)\u001b[0m\n\u001b[1;32m   5263\u001b[0m     \u001b[38;5;28;01mreturn\u001b[39;00m _reindex_for_setitem(value, \u001b[38;5;28mself\u001b[39m\u001b[38;5;241m.\u001b[39mindex)\n\u001b[1;32m   5265\u001b[0m \u001b[38;5;28;01mif\u001b[39;00m is_list_like(value):\n\u001b[0;32m-> 5266\u001b[0m     \u001b[43mcom\u001b[49m\u001b[38;5;241;43m.\u001b[39;49m\u001b[43mrequire_length_match\u001b[49m\u001b[43m(\u001b[49m\u001b[43mvalue\u001b[49m\u001b[43m,\u001b[49m\u001b[43m \u001b[49m\u001b[38;5;28;43mself\u001b[39;49m\u001b[38;5;241;43m.\u001b[39;49m\u001b[43mindex\u001b[49m\u001b[43m)\u001b[49m\n\u001b[1;32m   5267\u001b[0m arr \u001b[38;5;241m=\u001b[39m sanitize_array(value, \u001b[38;5;28mself\u001b[39m\u001b[38;5;241m.\u001b[39mindex, copy\u001b[38;5;241m=\u001b[39m\u001b[38;5;28;01mTrue\u001b[39;00m, allow_2d\u001b[38;5;241m=\u001b[39m\u001b[38;5;28;01mTrue\u001b[39;00m)\n\u001b[1;32m   5268\u001b[0m \u001b[38;5;28;01mif\u001b[39;00m (\n\u001b[1;32m   5269\u001b[0m     \u001b[38;5;28misinstance\u001b[39m(value, Index)\n\u001b[1;32m   5270\u001b[0m     \u001b[38;5;129;01mand\u001b[39;00m value\u001b[38;5;241m.\u001b[39mdtype \u001b[38;5;241m==\u001b[39m \u001b[38;5;124m\"\u001b[39m\u001b[38;5;124mobject\u001b[39m\u001b[38;5;124m\"\u001b[39m\n\u001b[0;32m   (...)\u001b[0m\n\u001b[1;32m   5273\u001b[0m     \u001b[38;5;66;03m# TODO: Remove kludge in sanitize_array for string mode when enforcing\u001b[39;00m\n\u001b[1;32m   5274\u001b[0m     \u001b[38;5;66;03m# this deprecation\u001b[39;00m\n",
      "File \u001b[0;32m~/miniconda3/envs/ml-research-py310/lib/python3.10/site-packages/pandas/core/common.py:573\u001b[0m, in \u001b[0;36mrequire_length_match\u001b[0;34m(data, index)\u001b[0m\n\u001b[1;32m    569\u001b[0m \u001b[38;5;250m\u001b[39m\u001b[38;5;124;03m\"\"\"\u001b[39;00m\n\u001b[1;32m    570\u001b[0m \u001b[38;5;124;03mCheck the length of data matches the length of the index.\u001b[39;00m\n\u001b[1;32m    571\u001b[0m \u001b[38;5;124;03m\"\"\"\u001b[39;00m\n\u001b[1;32m    572\u001b[0m \u001b[38;5;28;01mif\u001b[39;00m \u001b[38;5;28mlen\u001b[39m(data) \u001b[38;5;241m!=\u001b[39m \u001b[38;5;28mlen\u001b[39m(index):\n\u001b[0;32m--> 573\u001b[0m     \u001b[38;5;28;01mraise\u001b[39;00m \u001b[38;5;167;01mValueError\u001b[39;00m(\n\u001b[1;32m    574\u001b[0m         \u001b[38;5;124m\"\u001b[39m\u001b[38;5;124mLength of values \u001b[39m\u001b[38;5;124m\"\u001b[39m\n\u001b[1;32m    575\u001b[0m         \u001b[38;5;124mf\u001b[39m\u001b[38;5;124m\"\u001b[39m\u001b[38;5;124m(\u001b[39m\u001b[38;5;132;01m{\u001b[39;00m\u001b[38;5;28mlen\u001b[39m(data)\u001b[38;5;132;01m}\u001b[39;00m\u001b[38;5;124m) \u001b[39m\u001b[38;5;124m\"\u001b[39m\n\u001b[1;32m    576\u001b[0m         \u001b[38;5;124m\"\u001b[39m\u001b[38;5;124mdoes not match length of index \u001b[39m\u001b[38;5;124m\"\u001b[39m\n\u001b[1;32m    577\u001b[0m         \u001b[38;5;124mf\u001b[39m\u001b[38;5;124m\"\u001b[39m\u001b[38;5;124m(\u001b[39m\u001b[38;5;132;01m{\u001b[39;00m\u001b[38;5;28mlen\u001b[39m(index)\u001b[38;5;132;01m}\u001b[39;00m\u001b[38;5;124m)\u001b[39m\u001b[38;5;124m\"\u001b[39m\n\u001b[1;32m    578\u001b[0m     )\n",
      "\u001b[0;31mValueError\u001b[0m: Length of values (0) does not match length of index (505)"
     ]
    }
   ],
   "source": [
    "\n",
    "# Create and apply the mean reversion strategy\n",
    "strategy = MeanReversionStrategy(stock_data['Close'])\n",
    "signals = strategy.generate_signals()\n",
    "stock_data['Signal'] = signals\n",
    "\n",
    "# Display the first few rows of the data with signals\n",
    "print(\"\\nStock data with signals:\")\n",
    "display(stock_data.head())\n",
    "\n",
    "# Plot the strategy\n",
    "plt.figure(figsize=(14, 7))\n",
    "plt.plot(stock_data['Close'], label='Stock Price', alpha=0.7)\n",
    "plt.plot(strategy.mean, linestyle='-', color='blue', label='Mean', alpha=0.5)\n",
    "plt.plot(strategy.upper_band, linestyle='dashed', color='red', label='Upper Bound')\n",
    "plt.plot(strategy.lower_band, linestyle='dashed', color='green', label='Lower Bound')\n",
    "\n",
    "# Mark buy and sell signals\n",
    "buy_signals = stock_data[stock_data['Signal'] == 'BUY']\n",
    "sell_signals = stock_data[stock_data['Signal'] == 'SELL']\n",
    "\n",
    "plt.scatter(buy_signals.index, buy_signals['Close'], color='green', marker='^', s=100, label='Buy')\n",
    "plt.scatter(sell_signals.index, sell_signals['Close'], color='red', marker='v', s=100, label='Sell')\n",
    "\n",
    "plt.title('Mean Reversion Strategy for AAPL')\n",
    "plt.xlabel('Date')\n",
    "plt.ylabel('Price')\n",
    "plt.legend()\n",
    "plt.grid(True, alpha=0.3)\n",
    "plt.show()"
   ]
  },
  {
   "cell_type": "markdown",
   "metadata": {},
   "source": [
    "## 3. Backtesting"
   ]
  },
  {
   "cell_type": "code",
   "execution_count": null,
   "metadata": {},
   "outputs": [],
   "source": [
    "# Implement backtesting\n",
    "def backtest_strategy(stock_data, initial_capital=10000):\n",
    "    capital = initial_capital\n",
    "    position = 0\n",
    "    trades = []\n",
    "    portfolio_value = [initial_capital]\n",
    "    \n",
    "    for i in range(len(stock_data)):\n",
    "        current_value = capital if position == 0 else position * stock_data['Close'].iloc[i]\n",
    "        portfolio_value.append(current_value)\n",
    "        \n",
    "        if stock_data['Signal'].iloc[i] == 'BUY' and capital > 0:\n",
    "            position = capital / stock_data['Close'].iloc[i]\n",
    "            trades.append((stock_data.index[i], 'BUY', stock_data['Close'].iloc[i], position))\n",
    "            capital = 0\n",
    "        elif stock_data['Signal'].iloc[i] == 'SELL' and position > 0:\n",
    "            capital = position * stock_data['Close'].iloc[i]\n",
    "            trades.append((stock_data.index[i], 'SELL', stock_data['Close'].iloc[i], position))\n",
    "            position = 0\n",
    "    \n",
    "    final_value = capital if capital > 0 else position * stock_data['Close'].iloc[-1]\n",
    "    return final_value, trades, portfolio_value[1:]\n",
    "\n",
    "# Run the backtest\n",
    "final_value, trades, portfolio_values = backtest_strategy(stock_data)\n",
    "\n",
    "# Print results\n",
    "print(f\"Initial Capital: $10,000.00\")\n",
    "print(f\"Final Portfolio Value: ${final_value:.2f}\")\n",
    "print(f\"Return: {((final_value / 10000) - 1) * 100:.2f}%\")\n",
    "print(f\"Number of trades: {len(trades)}\")\n",
    "\n",
    "# Display trade history\n",
    "print(\"\\nTrade History:\")\n",
    "for date, action, price, shares in trades[:10]:  # Show first 10 trades\n",
    "    print(f\"{date.date()} - {action}: {shares:.2f} shares at ${price:.2f}\")\n",
    "if len(trades) > 10:\n",
    "    print(f\"... and {len(trades) - 10} more trades\")\n",
    "\n",
    "# Plot portfolio performance\n",
    "plt.figure(figsize=(14, 7))\n",
    "plt.plot(stock_data.index, portfolio_values, label='Portfolio Value', color='blue')\n",
    "\n",
    "# Add buy/sell markers\n",
    "for date, action, price, shares in trades:\n",
    "    if action == 'BUY':\n",
    "        plt.scatter(date, price * shares, color='green', marker='^', s=100)\n",
    "    else:  # SELL\n",
    "        plt.scatter(date, price * shares, color='red', marker='v', s=100)\n",
    "\n",
    "plt.title('Portfolio Performance')\n",
    "plt.xlabel('Date')\n",
    "plt.ylabel('Portfolio Value ($)')\n",
    "plt.grid(True, alpha=0.3)\n",
    "plt.legend()\n",
    "plt.show()"
   ]
  },
  {
   "cell_type": "markdown",
   "metadata": {},
   "source": [
    "## 4. Strategy Performance Analysis"
   ]
  },
  {
   "cell_type": "code",
   "execution_count": null,
   "metadata": {},
   "outputs": [],
   "source": [
    "# Calculate performance metrics\n",
    "def calculate_metrics(portfolio_values, stock_data):\n",
    "    # Convert to numpy arrays for calculations\n",
    "    portfolio_returns = np.array([(portfolio_values[i] - portfolio_values[i-1]) / portfolio_values[i-1] \n",
    "                               for i in range(1, len(portfolio_values))])\n",
    "    \n",
    "    # Calculate metrics\n",
    "    total_return = (portfolio_values[-1] / portfolio_values[0]) - 1\n",
    "    annual_return = (1 + total_return) ** (252 / len(portfolio_returns)) - 1\n",
    "    daily_std = np.std(portfolio_returns)\n",
    "    sharpe_ratio = np.mean(portfolio_returns) / daily_std * np.sqrt(252)  # Annualized Sharpe\n",
    "    max_drawdown = np.max(np.maximum.accumulate(portfolio_values) - portfolio_values) / np.max(portfolio_values)\n",
    "    \n",
    "    # Buy & Hold comparison\n",
    "    buy_hold_return = (stock_data['Close'].iloc[-1] / stock_data['Close'].iloc[0]) - 1\n",
    "    \n",
    "    return {\n",
    "        'Total Return': total_return,\n",
    "        'Annual Return': annual_return,\n",
    "        'Daily Volatility': daily_std,\n",
    "        'Sharpe Ratio': sharpe_ratio,\n",
    "        'Max Drawdown': max_drawdown,\n",
    "        'Buy & Hold Return': buy_hold_return\n",
    "    }\n",
    "\n",
    "# Calculate and display the metrics\n",
    "metrics = calculate_metrics(portfolio_values, stock_data)\n",
    "\n",
    "print(\"Performance Metrics:\")\n",
    "print(f\"Total Return: {metrics['Total Return'] * 100:.2f}%\")\n",
    "print(f\"Annual Return: {metrics['Annual Return'] * 100:.2f}%\")\n",
    "print(f\"Daily Volatility: {metrics['Daily Volatility'] * 100:.2f}%\")\n",
    "print(f\"Sharpe Ratio: {metrics['Sharpe Ratio']:.2f}\")\n",
    "print(f\"Maximum Drawdown: {metrics['Max Drawdown'] * 100:.2f}%\")\n",
    "print(f\"Buy & Hold Return: {metrics['Buy & Hold Return'] * 100:.2f}%\")\n",
    "\n",
    "# Compare strategy vs. Buy & Hold\n",
    "plt.figure(figsize=(14, 7))\n",
    "\n",
    "# Normalize values to start at 100\n",
    "norm_portfolio = [v * 100 / portfolio_values[0] for v in portfolio_values]\n",
    "norm_stock = stock_data['Close'] * 100 / stock_data['Close'].iloc[0]\n",
    "\n",
    "plt.plot(stock_data.index, norm_portfolio, label='Strategy', linewidth=2)\n",
    "plt.plot(stock_data.index, norm_stock, label='Buy & Hold', linewidth=2, alpha=0.7)\n",
    "\n",
    "plt.title('Strategy vs. Buy & Hold Performance (Normalized)')\n",
    "plt.xlabel('Date')\n",
    "plt.ylabel('Value (Starting at 100)')\n",
    "plt.grid(True, alpha=0.3)\n",
    "plt.legend()\n",
    "plt.show()"
   ]
  }
 ],
 "metadata": {
  "kernelspec": {
   "display_name": "Python 3 (ipykernel)",
   "language": "python",
   "name": "python3"
  },
  "language_info": {
   "codemirror_mode": {
    "name": "ipython",
    "version": 3
   },
   "file_extension": ".py",
   "mimetype": "text/x-python",
   "name": "python",
   "nbconvert_exporter": "python",
   "pygments_lexer": "ipython3",
   "version": "3.10.16"
  }
 },
 "nbformat": 4,
 "nbformat_minor": 2
}
